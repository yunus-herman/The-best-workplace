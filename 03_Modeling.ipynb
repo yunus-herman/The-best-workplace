{
 "cells": [
  {
   "cell_type": "markdown",
   "metadata": {},
   "source": [
    "# Modeling"
   ]
  },
  {
   "cell_type": "markdown",
   "metadata": {},
   "source": [
    "### Import"
   ]
  },
  {
   "cell_type": "code",
   "execution_count": 419,
   "metadata": {},
   "outputs": [],
   "source": [
    "import pandas as pd\n",
    "import numpy as np\n",
    "import matplotlib.pyplot as plt\n",
    "import seaborn as sns\n",
    "\n",
    "from sklearn.preprocessing import StandardScaler\n",
    "from sklearn.model_selection import train_test_split\n",
    "import matplotlib.pyplot as plt\n",
    "\n",
    "from sklearn.model_selection import train_test_split, GridSearchCV, cross_val_score\n",
    "from sklearn.svm import SVC\n",
    "from sklearn.tree import ExtraTreeClassifier, DecisionTreeClassifier\n",
    "from sklearn.ensemble import RandomForestClassifier, AdaBoostClassifier, GradientBoostingClassifier, VotingClassifier\n",
    "from sklearn.linear_model import LogisticRegression\n",
    "from sklearn.pipeline import Pipeline\n",
    "from sklearn.preprocessing import StandardScaler\n",
    "from sklearn.metrics import confusion_matrix, classification_report, f1_score\n",
    "from sklearn.neighbors import KNeighborsClassifier\n",
    "from sklearn import svm\n",
    "from sklearn import metrics as metrics\n",
    "\n",
    "pd.set_option('display.max_columns', None)"
   ]
  },
  {
   "cell_type": "markdown",
   "metadata": {},
   "source": [
    "### Load data"
   ]
  },
  {
   "cell_type": "code",
   "execution_count": 420,
   "metadata": {},
   "outputs": [],
   "source": [
    "df = pd.read_csv('data/clean_df.csv')"
   ]
  },
  {
   "cell_type": "code",
   "execution_count": 421,
   "metadata": {
    "scrolled": true
   },
   "outputs": [
    {
     "data": {
      "text/html": [
       "<div>\n",
       "<style scoped>\n",
       "    .dataframe tbody tr th:only-of-type {\n",
       "        vertical-align: middle;\n",
       "    }\n",
       "\n",
       "    .dataframe tbody tr th {\n",
       "        vertical-align: top;\n",
       "    }\n",
       "\n",
       "    .dataframe thead th {\n",
       "        text-align: right;\n",
       "    }\n",
       "</style>\n",
       "<table border=\"1\" class=\"dataframe\">\n",
       "  <thead>\n",
       "    <tr style=\"text-align: right;\">\n",
       "      <th></th>\n",
       "      <th>name</th>\n",
       "      <th>industry</th>\n",
       "      <th>office</th>\n",
       "      <th>size</th>\n",
       "      <th>review_counts</th>\n",
       "      <th>salaries_count</th>\n",
       "      <th>jobs_count</th>\n",
       "      <th>interviews_count</th>\n",
       "      <th>benefits_count</th>\n",
       "      <th>website</th>\n",
       "      <th>company_type</th>\n",
       "      <th>revenue</th>\n",
       "      <th>head_quarter</th>\n",
       "      <th>founded</th>\n",
       "      <th>interview_possitive</th>\n",
       "      <th>interview_negative</th>\n",
       "      <th>interview_neutral</th>\n",
       "      <th>interview_difficulty</th>\n",
       "      <th>benefits_score</th>\n",
       "      <th>rating</th>\n",
       "      <th>total_insurance_health_wellness_benefits</th>\n",
       "      <th>health_insurance</th>\n",
       "      <th>dental_insurance</th>\n",
       "      <th>FSA</th>\n",
       "      <th>vision insurance</th>\n",
       "      <th>HSA</th>\n",
       "      <th>life_insurance</th>\n",
       "      <th>supplemental_life_insurance</th>\n",
       "      <th>disability_insurance</th>\n",
       "      <th>occupational_accident_insurance</th>\n",
       "      <th>health_care_on_site</th>\n",
       "      <th>mental_health_care</th>\n",
       "      <th>retiree_health_and_medical</th>\n",
       "      <th>accidental_death_and_dismemberment_insurance</th>\n",
       "      <th>total_financial_retirement_benefits</th>\n",
       "      <th>pension_plan</th>\n",
       "      <th>plan_401K</th>\n",
       "      <th>retirement_plan</th>\n",
       "      <th>employee_stock_purcase_plan</th>\n",
       "      <th>performance_bonus</th>\n",
       "      <th>stock_options</th>\n",
       "      <th>equity_incentive_plan</th>\n",
       "      <th>supplemental_workers_compensation</th>\n",
       "      <th>charity_gift_matching</th>\n",
       "      <th>total_family_parenting_benefits</th>\n",
       "      <th>maternity_paternity_leave</th>\n",
       "      <th>work_from_home</th>\n",
       "      <th>fertility_assistance</th>\n",
       "      <th>dependent_care</th>\n",
       "      <th>adoption_assistance</th>\n",
       "      <th>childcare</th>\n",
       "      <th>flexible_hour</th>\n",
       "      <th>military_leave</th>\n",
       "      <th>family_medical_leave</th>\n",
       "      <th>unpaid_extended_leave</th>\n",
       "      <th>total_vacation_time_off_benefits</th>\n",
       "      <th>vacation_paid_time_off</th>\n",
       "      <th>sick_days</th>\n",
       "      <th>paid_holidays</th>\n",
       "      <th>volunteer_time_off</th>\n",
       "      <th>sabbatical</th>\n",
       "      <th>bereavement_leave</th>\n",
       "      <th>total_perk_discounts_benefits</th>\n",
       "      <th>employee_discount</th>\n",
       "      <th>free_lunch_or_snacks</th>\n",
       "      <th>employee_assistance_program</th>\n",
       "      <th>gym_membership</th>\n",
       "      <th>commuter_checks_and_assistance</th>\n",
       "      <th>pet_friendly_worksplace</th>\n",
       "      <th>mobile_phone_discount</th>\n",
       "      <th>company_car</th>\n",
       "      <th>company_social_events</th>\n",
       "      <th>travel_concierge</th>\n",
       "      <th>legal_assistance</th>\n",
       "      <th>total_professional_support_benefits</th>\n",
       "      <th>diversity_program</th>\n",
       "      <th>job_training</th>\n",
       "      <th>professional_development</th>\n",
       "      <th>apprenticeship</th>\n",
       "      <th>tuition_assistance</th>\n",
       "      <th>category</th>\n",
       "      <th>state</th>\n",
       "      <th>company_rank</th>\n",
       "    </tr>\n",
       "  </thead>\n",
       "  <tbody>\n",
       "    <tr>\n",
       "      <th>0</th>\n",
       "      <td>Google</td>\n",
       "      <td>Internet</td>\n",
       "      <td>35</td>\n",
       "      <td>3</td>\n",
       "      <td>19400.0</td>\n",
       "      <td>43800.0</td>\n",
       "      <td>1900.0</td>\n",
       "      <td>13000.0</td>\n",
       "      <td>4700.0</td>\n",
       "      <td>https://www.google.com/</td>\n",
       "      <td>Public</td>\n",
       "      <td>8</td>\n",
       "      <td>Mountain View, CA</td>\n",
       "      <td>1998.0</td>\n",
       "      <td>0.61</td>\n",
       "      <td>0.15</td>\n",
       "      <td>0.23</td>\n",
       "      <td>3.3</td>\n",
       "      <td>4.7</td>\n",
       "      <td>4.5</td>\n",
       "      <td>13</td>\n",
       "      <td>1</td>\n",
       "      <td>1</td>\n",
       "      <td>1</td>\n",
       "      <td>1</td>\n",
       "      <td>1</td>\n",
       "      <td>1</td>\n",
       "      <td>1</td>\n",
       "      <td>1</td>\n",
       "      <td>1</td>\n",
       "      <td>1</td>\n",
       "      <td>1</td>\n",
       "      <td>1</td>\n",
       "      <td>1</td>\n",
       "      <td>7</td>\n",
       "      <td>0</td>\n",
       "      <td>1</td>\n",
       "      <td>1</td>\n",
       "      <td>0</td>\n",
       "      <td>1</td>\n",
       "      <td>1</td>\n",
       "      <td>1</td>\n",
       "      <td>1</td>\n",
       "      <td>1</td>\n",
       "      <td>8</td>\n",
       "      <td>1</td>\n",
       "      <td>1</td>\n",
       "      <td>0</td>\n",
       "      <td>0</td>\n",
       "      <td>1</td>\n",
       "      <td>1</td>\n",
       "      <td>1</td>\n",
       "      <td>1</td>\n",
       "      <td>1</td>\n",
       "      <td>1</td>\n",
       "      <td>5</td>\n",
       "      <td>1</td>\n",
       "      <td>1</td>\n",
       "      <td>1</td>\n",
       "      <td>1</td>\n",
       "      <td>0</td>\n",
       "      <td>1</td>\n",
       "      <td>11</td>\n",
       "      <td>1</td>\n",
       "      <td>1</td>\n",
       "      <td>1</td>\n",
       "      <td>1</td>\n",
       "      <td>1</td>\n",
       "      <td>1</td>\n",
       "      <td>1</td>\n",
       "      <td>1</td>\n",
       "      <td>1</td>\n",
       "      <td>1</td>\n",
       "      <td>1</td>\n",
       "      <td>4</td>\n",
       "      <td>1</td>\n",
       "      <td>1</td>\n",
       "      <td>1</td>\n",
       "      <td>0</td>\n",
       "      <td>1</td>\n",
       "      <td>Information Technology</td>\n",
       "      <td>CA</td>\n",
       "      <td>2</td>\n",
       "    </tr>\n",
       "    <tr>\n",
       "      <th>1</th>\n",
       "      <td>Microsoft</td>\n",
       "      <td>Computer Hardware &amp; Software</td>\n",
       "      <td>34</td>\n",
       "      <td>3</td>\n",
       "      <td>30300.0</td>\n",
       "      <td>68800.0</td>\n",
       "      <td>5700.0</td>\n",
       "      <td>10000.0</td>\n",
       "      <td>10000.0</td>\n",
       "      <td>https://www.microsoft.com/</td>\n",
       "      <td>Public</td>\n",
       "      <td>8</td>\n",
       "      <td>Redmond, WA</td>\n",
       "      <td>1975.0</td>\n",
       "      <td>0.65</td>\n",
       "      <td>0.13</td>\n",
       "      <td>0.21</td>\n",
       "      <td>3.1</td>\n",
       "      <td>4.5</td>\n",
       "      <td>4.4</td>\n",
       "      <td>12</td>\n",
       "      <td>1</td>\n",
       "      <td>1</td>\n",
       "      <td>1</td>\n",
       "      <td>1</td>\n",
       "      <td>1</td>\n",
       "      <td>1</td>\n",
       "      <td>1</td>\n",
       "      <td>1</td>\n",
       "      <td>1</td>\n",
       "      <td>1</td>\n",
       "      <td>1</td>\n",
       "      <td>0</td>\n",
       "      <td>1</td>\n",
       "      <td>8</td>\n",
       "      <td>0</td>\n",
       "      <td>1</td>\n",
       "      <td>1</td>\n",
       "      <td>1</td>\n",
       "      <td>1</td>\n",
       "      <td>1</td>\n",
       "      <td>1</td>\n",
       "      <td>1</td>\n",
       "      <td>1</td>\n",
       "      <td>10</td>\n",
       "      <td>1</td>\n",
       "      <td>1</td>\n",
       "      <td>1</td>\n",
       "      <td>1</td>\n",
       "      <td>1</td>\n",
       "      <td>1</td>\n",
       "      <td>1</td>\n",
       "      <td>1</td>\n",
       "      <td>1</td>\n",
       "      <td>1</td>\n",
       "      <td>6</td>\n",
       "      <td>1</td>\n",
       "      <td>1</td>\n",
       "      <td>1</td>\n",
       "      <td>1</td>\n",
       "      <td>1</td>\n",
       "      <td>1</td>\n",
       "      <td>9</td>\n",
       "      <td>1</td>\n",
       "      <td>1</td>\n",
       "      <td>1</td>\n",
       "      <td>1</td>\n",
       "      <td>1</td>\n",
       "      <td>0</td>\n",
       "      <td>1</td>\n",
       "      <td>0</td>\n",
       "      <td>1</td>\n",
       "      <td>1</td>\n",
       "      <td>1</td>\n",
       "      <td>5</td>\n",
       "      <td>1</td>\n",
       "      <td>1</td>\n",
       "      <td>1</td>\n",
       "      <td>1</td>\n",
       "      <td>1</td>\n",
       "      <td>Information Technology</td>\n",
       "      <td>WA</td>\n",
       "      <td>2</td>\n",
       "    </tr>\n",
       "    <tr>\n",
       "      <th>2</th>\n",
       "      <td>Apple</td>\n",
       "      <td>Computer Hardware &amp; Software</td>\n",
       "      <td>25</td>\n",
       "      <td>3</td>\n",
       "      <td>21600.0</td>\n",
       "      <td>63600.0</td>\n",
       "      <td>4200.0</td>\n",
       "      <td>8500.0</td>\n",
       "      <td>7100.0</td>\n",
       "      <td>https://www.apple.com/</td>\n",
       "      <td>Public</td>\n",
       "      <td>8</td>\n",
       "      <td>Cupertino, CA</td>\n",
       "      <td>1976.0</td>\n",
       "      <td>0.65</td>\n",
       "      <td>0.15</td>\n",
       "      <td>0.20</td>\n",
       "      <td>3.0</td>\n",
       "      <td>4.5</td>\n",
       "      <td>4.3</td>\n",
       "      <td>12</td>\n",
       "      <td>1</td>\n",
       "      <td>1</td>\n",
       "      <td>1</td>\n",
       "      <td>1</td>\n",
       "      <td>1</td>\n",
       "      <td>1</td>\n",
       "      <td>1</td>\n",
       "      <td>1</td>\n",
       "      <td>1</td>\n",
       "      <td>0</td>\n",
       "      <td>1</td>\n",
       "      <td>1</td>\n",
       "      <td>1</td>\n",
       "      <td>7</td>\n",
       "      <td>0</td>\n",
       "      <td>1</td>\n",
       "      <td>1</td>\n",
       "      <td>1</td>\n",
       "      <td>0</td>\n",
       "      <td>1</td>\n",
       "      <td>1</td>\n",
       "      <td>1</td>\n",
       "      <td>1</td>\n",
       "      <td>9</td>\n",
       "      <td>1</td>\n",
       "      <td>1</td>\n",
       "      <td>1</td>\n",
       "      <td>1</td>\n",
       "      <td>1</td>\n",
       "      <td>1</td>\n",
       "      <td>0</td>\n",
       "      <td>1</td>\n",
       "      <td>1</td>\n",
       "      <td>1</td>\n",
       "      <td>6</td>\n",
       "      <td>1</td>\n",
       "      <td>1</td>\n",
       "      <td>1</td>\n",
       "      <td>1</td>\n",
       "      <td>1</td>\n",
       "      <td>1</td>\n",
       "      <td>9</td>\n",
       "      <td>1</td>\n",
       "      <td>1</td>\n",
       "      <td>1</td>\n",
       "      <td>1</td>\n",
       "      <td>1</td>\n",
       "      <td>0</td>\n",
       "      <td>1</td>\n",
       "      <td>0</td>\n",
       "      <td>1</td>\n",
       "      <td>1</td>\n",
       "      <td>1</td>\n",
       "      <td>4</td>\n",
       "      <td>1</td>\n",
       "      <td>1</td>\n",
       "      <td>1</td>\n",
       "      <td>0</td>\n",
       "      <td>1</td>\n",
       "      <td>Information Technology</td>\n",
       "      <td>CA</td>\n",
       "      <td>2</td>\n",
       "    </tr>\n",
       "    <tr>\n",
       "      <th>3</th>\n",
       "      <td>US Air Force</td>\n",
       "      <td>Federal Agencies</td>\n",
       "      <td>40</td>\n",
       "      <td>3</td>\n",
       "      <td>17100.0</td>\n",
       "      <td>19400.0</td>\n",
       "      <td>4800.0</td>\n",
       "      <td>1000.0</td>\n",
       "      <td>7600.0</td>\n",
       "      <td>https://www.af.mil/</td>\n",
       "      <td>Government</td>\n",
       "      <td>8</td>\n",
       "      <td>Washington, DC</td>\n",
       "      <td>1947.0</td>\n",
       "      <td>0.70</td>\n",
       "      <td>0.05</td>\n",
       "      <td>0.24</td>\n",
       "      <td>2.2</td>\n",
       "      <td>4.5</td>\n",
       "      <td>4.2</td>\n",
       "      <td>11</td>\n",
       "      <td>1</td>\n",
       "      <td>1</td>\n",
       "      <td>0</td>\n",
       "      <td>1</td>\n",
       "      <td>0</td>\n",
       "      <td>1</td>\n",
       "      <td>1</td>\n",
       "      <td>1</td>\n",
       "      <td>1</td>\n",
       "      <td>1</td>\n",
       "      <td>1</td>\n",
       "      <td>1</td>\n",
       "      <td>1</td>\n",
       "      <td>4</td>\n",
       "      <td>1</td>\n",
       "      <td>1</td>\n",
       "      <td>1</td>\n",
       "      <td>0</td>\n",
       "      <td>0</td>\n",
       "      <td>0</td>\n",
       "      <td>0</td>\n",
       "      <td>1</td>\n",
       "      <td>0</td>\n",
       "      <td>9</td>\n",
       "      <td>1</td>\n",
       "      <td>0</td>\n",
       "      <td>1</td>\n",
       "      <td>1</td>\n",
       "      <td>1</td>\n",
       "      <td>1</td>\n",
       "      <td>1</td>\n",
       "      <td>1</td>\n",
       "      <td>1</td>\n",
       "      <td>1</td>\n",
       "      <td>6</td>\n",
       "      <td>1</td>\n",
       "      <td>1</td>\n",
       "      <td>1</td>\n",
       "      <td>1</td>\n",
       "      <td>1</td>\n",
       "      <td>1</td>\n",
       "      <td>10</td>\n",
       "      <td>1</td>\n",
       "      <td>1</td>\n",
       "      <td>1</td>\n",
       "      <td>1</td>\n",
       "      <td>1</td>\n",
       "      <td>0</td>\n",
       "      <td>1</td>\n",
       "      <td>1</td>\n",
       "      <td>1</td>\n",
       "      <td>1</td>\n",
       "      <td>1</td>\n",
       "      <td>5</td>\n",
       "      <td>1</td>\n",
       "      <td>1</td>\n",
       "      <td>1</td>\n",
       "      <td>1</td>\n",
       "      <td>1</td>\n",
       "      <td>Goverment</td>\n",
       "      <td>DC</td>\n",
       "      <td>2</td>\n",
       "    </tr>\n",
       "    <tr>\n",
       "      <th>4</th>\n",
       "      <td>Cisco Systems</td>\n",
       "      <td>Computer Hardware &amp; Software</td>\n",
       "      <td>25</td>\n",
       "      <td>3</td>\n",
       "      <td>22400.0</td>\n",
       "      <td>42500.0</td>\n",
       "      <td>1900.0</td>\n",
       "      <td>4300.0</td>\n",
       "      <td>8000.0</td>\n",
       "      <td>https://www.cisco.com/</td>\n",
       "      <td>Private</td>\n",
       "      <td>8</td>\n",
       "      <td>San Jose, CA</td>\n",
       "      <td>1984.0</td>\n",
       "      <td>0.69</td>\n",
       "      <td>0.11</td>\n",
       "      <td>0.19</td>\n",
       "      <td>3.0</td>\n",
       "      <td>4.2</td>\n",
       "      <td>4.2</td>\n",
       "      <td>13</td>\n",
       "      <td>1</td>\n",
       "      <td>1</td>\n",
       "      <td>1</td>\n",
       "      <td>1</td>\n",
       "      <td>1</td>\n",
       "      <td>1</td>\n",
       "      <td>1</td>\n",
       "      <td>1</td>\n",
       "      <td>1</td>\n",
       "      <td>1</td>\n",
       "      <td>1</td>\n",
       "      <td>1</td>\n",
       "      <td>1</td>\n",
       "      <td>8</td>\n",
       "      <td>0</td>\n",
       "      <td>1</td>\n",
       "      <td>1</td>\n",
       "      <td>1</td>\n",
       "      <td>1</td>\n",
       "      <td>1</td>\n",
       "      <td>1</td>\n",
       "      <td>1</td>\n",
       "      <td>1</td>\n",
       "      <td>10</td>\n",
       "      <td>1</td>\n",
       "      <td>1</td>\n",
       "      <td>1</td>\n",
       "      <td>1</td>\n",
       "      <td>1</td>\n",
       "      <td>1</td>\n",
       "      <td>1</td>\n",
       "      <td>1</td>\n",
       "      <td>1</td>\n",
       "      <td>1</td>\n",
       "      <td>5</td>\n",
       "      <td>1</td>\n",
       "      <td>1</td>\n",
       "      <td>1</td>\n",
       "      <td>1</td>\n",
       "      <td>0</td>\n",
       "      <td>1</td>\n",
       "      <td>9</td>\n",
       "      <td>1</td>\n",
       "      <td>1</td>\n",
       "      <td>1</td>\n",
       "      <td>1</td>\n",
       "      <td>1</td>\n",
       "      <td>0</td>\n",
       "      <td>1</td>\n",
       "      <td>0</td>\n",
       "      <td>1</td>\n",
       "      <td>1</td>\n",
       "      <td>1</td>\n",
       "      <td>5</td>\n",
       "      <td>1</td>\n",
       "      <td>1</td>\n",
       "      <td>1</td>\n",
       "      <td>1</td>\n",
       "      <td>1</td>\n",
       "      <td>Information Technology</td>\n",
       "      <td>CA</td>\n",
       "      <td>2</td>\n",
       "    </tr>\n",
       "  </tbody>\n",
       "</table>\n",
       "</div>"
      ],
      "text/plain": [
       "            name                      industry  office  size  review_counts  \\\n",
       "0         Google                      Internet      35     3        19400.0   \n",
       "1      Microsoft  Computer Hardware & Software      34     3        30300.0   \n",
       "2          Apple  Computer Hardware & Software      25     3        21600.0   \n",
       "3   US Air Force              Federal Agencies      40     3        17100.0   \n",
       "4  Cisco Systems  Computer Hardware & Software      25     3        22400.0   \n",
       "\n",
       "   salaries_count  jobs_count  interviews_count  benefits_count  \\\n",
       "0         43800.0      1900.0           13000.0          4700.0   \n",
       "1         68800.0      5700.0           10000.0         10000.0   \n",
       "2         63600.0      4200.0            8500.0          7100.0   \n",
       "3         19400.0      4800.0            1000.0          7600.0   \n",
       "4         42500.0      1900.0            4300.0          8000.0   \n",
       "\n",
       "                      website company_type  revenue       head_quarter  \\\n",
       "0     https://www.google.com/       Public        8  Mountain View, CA   \n",
       "1  https://www.microsoft.com/       Public        8        Redmond, WA   \n",
       "2      https://www.apple.com/       Public        8      Cupertino, CA   \n",
       "3         https://www.af.mil/   Government        8     Washington, DC   \n",
       "4      https://www.cisco.com/      Private        8       San Jose, CA   \n",
       "\n",
       "   founded  interview_possitive  interview_negative  interview_neutral  \\\n",
       "0   1998.0                 0.61                0.15               0.23   \n",
       "1   1975.0                 0.65                0.13               0.21   \n",
       "2   1976.0                 0.65                0.15               0.20   \n",
       "3   1947.0                 0.70                0.05               0.24   \n",
       "4   1984.0                 0.69                0.11               0.19   \n",
       "\n",
       "   interview_difficulty  benefits_score  rating  \\\n",
       "0                   3.3             4.7     4.5   \n",
       "1                   3.1             4.5     4.4   \n",
       "2                   3.0             4.5     4.3   \n",
       "3                   2.2             4.5     4.2   \n",
       "4                   3.0             4.2     4.2   \n",
       "\n",
       "   total_insurance_health_wellness_benefits  health_insurance  \\\n",
       "0                                        13                 1   \n",
       "1                                        12                 1   \n",
       "2                                        12                 1   \n",
       "3                                        11                 1   \n",
       "4                                        13                 1   \n",
       "\n",
       "   dental_insurance  FSA  vision insurance  HSA  life_insurance  \\\n",
       "0                 1    1                 1    1               1   \n",
       "1                 1    1                 1    1               1   \n",
       "2                 1    1                 1    1               1   \n",
       "3                 1    0                 1    0               1   \n",
       "4                 1    1                 1    1               1   \n",
       "\n",
       "   supplemental_life_insurance  disability_insurance  \\\n",
       "0                            1                     1   \n",
       "1                            1                     1   \n",
       "2                            1                     1   \n",
       "3                            1                     1   \n",
       "4                            1                     1   \n",
       "\n",
       "   occupational_accident_insurance  health_care_on_site  mental_health_care  \\\n",
       "0                                1                    1                   1   \n",
       "1                                1                    1                   1   \n",
       "2                                1                    0                   1   \n",
       "3                                1                    1                   1   \n",
       "4                                1                    1                   1   \n",
       "\n",
       "   retiree_health_and_medical  accidental_death_and_dismemberment_insurance  \\\n",
       "0                           1                                             1   \n",
       "1                           0                                             1   \n",
       "2                           1                                             1   \n",
       "3                           1                                             1   \n",
       "4                           1                                             1   \n",
       "\n",
       "   total_financial_retirement_benefits  pension_plan  plan_401K  \\\n",
       "0                                    7             0          1   \n",
       "1                                    8             0          1   \n",
       "2                                    7             0          1   \n",
       "3                                    4             1          1   \n",
       "4                                    8             0          1   \n",
       "\n",
       "   retirement_plan  employee_stock_purcase_plan  performance_bonus  \\\n",
       "0                1                            0                  1   \n",
       "1                1                            1                  1   \n",
       "2                1                            1                  0   \n",
       "3                1                            0                  0   \n",
       "4                1                            1                  1   \n",
       "\n",
       "   stock_options  equity_incentive_plan  supplemental_workers_compensation  \\\n",
       "0              1                      1                                  1   \n",
       "1              1                      1                                  1   \n",
       "2              1                      1                                  1   \n",
       "3              0                      0                                  1   \n",
       "4              1                      1                                  1   \n",
       "\n",
       "   charity_gift_matching  total_family_parenting_benefits  \\\n",
       "0                      1                                8   \n",
       "1                      1                               10   \n",
       "2                      1                                9   \n",
       "3                      0                                9   \n",
       "4                      1                               10   \n",
       "\n",
       "   maternity_paternity_leave  work_from_home  fertility_assistance  \\\n",
       "0                          1               1                     0   \n",
       "1                          1               1                     1   \n",
       "2                          1               1                     1   \n",
       "3                          1               0                     1   \n",
       "4                          1               1                     1   \n",
       "\n",
       "   dependent_care  adoption_assistance  childcare  flexible_hour  \\\n",
       "0               0                    1          1              1   \n",
       "1               1                    1          1              1   \n",
       "2               1                    1          1              0   \n",
       "3               1                    1          1              1   \n",
       "4               1                    1          1              1   \n",
       "\n",
       "   military_leave  family_medical_leave  unpaid_extended_leave  \\\n",
       "0               1                     1                      1   \n",
       "1               1                     1                      1   \n",
       "2               1                     1                      1   \n",
       "3               1                     1                      1   \n",
       "4               1                     1                      1   \n",
       "\n",
       "   total_vacation_time_off_benefits  vacation_paid_time_off  sick_days  \\\n",
       "0                                 5                       1          1   \n",
       "1                                 6                       1          1   \n",
       "2                                 6                       1          1   \n",
       "3                                 6                       1          1   \n",
       "4                                 5                       1          1   \n",
       "\n",
       "   paid_holidays  volunteer_time_off  sabbatical  bereavement_leave  \\\n",
       "0              1                   1           0                  1   \n",
       "1              1                   1           1                  1   \n",
       "2              1                   1           1                  1   \n",
       "3              1                   1           1                  1   \n",
       "4              1                   1           0                  1   \n",
       "\n",
       "   total_perk_discounts_benefits  employee_discount  free_lunch_or_snacks  \\\n",
       "0                             11                  1                     1   \n",
       "1                              9                  1                     1   \n",
       "2                              9                  1                     1   \n",
       "3                             10                  1                     1   \n",
       "4                              9                  1                     1   \n",
       "\n",
       "   employee_assistance_program  gym_membership  \\\n",
       "0                            1               1   \n",
       "1                            1               1   \n",
       "2                            1               1   \n",
       "3                            1               1   \n",
       "4                            1               1   \n",
       "\n",
       "   commuter_checks_and_assistance  pet_friendly_worksplace  \\\n",
       "0                               1                        1   \n",
       "1                               1                        0   \n",
       "2                               1                        0   \n",
       "3                               1                        0   \n",
       "4                               1                        0   \n",
       "\n",
       "   mobile_phone_discount  company_car  company_social_events  \\\n",
       "0                      1            1                      1   \n",
       "1                      1            0                      1   \n",
       "2                      1            0                      1   \n",
       "3                      1            1                      1   \n",
       "4                      1            0                      1   \n",
       "\n",
       "   travel_concierge  legal_assistance  total_professional_support_benefits  \\\n",
       "0                 1                 1                                    4   \n",
       "1                 1                 1                                    5   \n",
       "2                 1                 1                                    4   \n",
       "3                 1                 1                                    5   \n",
       "4                 1                 1                                    5   \n",
       "\n",
       "   diversity_program  job_training  professional_development  apprenticeship  \\\n",
       "0                  1             1                         1               0   \n",
       "1                  1             1                         1               1   \n",
       "2                  1             1                         1               0   \n",
       "3                  1             1                         1               1   \n",
       "4                  1             1                         1               1   \n",
       "\n",
       "   tuition_assistance                category state  company_rank  \n",
       "0                   1  Information Technology    CA             2  \n",
       "1                   1  Information Technology    WA             2  \n",
       "2                   1  Information Technology    CA             2  \n",
       "3                   1               Goverment    DC             2  \n",
       "4                   1  Information Technology    CA             2  "
      ]
     },
     "execution_count": 421,
     "metadata": {},
     "output_type": "execute_result"
    }
   ],
   "source": [
    "df.head(5)"
   ]
  },
  {
   "cell_type": "code",
   "execution_count": 422,
   "metadata": {
    "scrolled": true
   },
   "outputs": [
    {
     "data": {
      "text/plain": [
       "0    773\n",
       "1    654\n",
       "2    806\n",
       "Name: company_rank, dtype: int64"
      ]
     },
     "execution_count": 422,
     "metadata": {},
     "output_type": "execute_result"
    }
   ],
   "source": [
    "df.company_rank.value_counts().sort_index()"
   ]
  },
  {
   "cell_type": "markdown",
   "metadata": {},
   "source": [
    "### Baseline = 36%"
   ]
  },
  {
   "cell_type": "code",
   "execution_count": 423,
   "metadata": {
    "scrolled": true
   },
   "outputs": [
    {
     "data": {
      "text/plain": [
       "0    0.346171\n",
       "1    0.292880\n",
       "2    0.360949\n",
       "Name: company_rank, dtype: float64"
      ]
     },
     "execution_count": 423,
     "metadata": {},
     "output_type": "execute_result"
    }
   ],
   "source": [
    "df.company_rank.value_counts(normalize = True).sort_index()"
   ]
  },
  {
   "cell_type": "markdown",
   "metadata": {},
   "source": [
    "### Set up X and y"
   ]
  },
  {
   "cell_type": "code",
   "execution_count": 424,
   "metadata": {
    "scrolled": true
   },
   "outputs": [
    {
     "name": "stdout",
     "output_type": "stream",
     "text": [
      "<class 'pandas.core.frame.DataFrame'>\n",
      "RangeIndex: 2233 entries, 0 to 2232\n",
      "Data columns (total 83 columns):\n",
      " #   Column                                        Non-Null Count  Dtype  \n",
      "---  ------                                        --------------  -----  \n",
      " 0   name                                          2233 non-null   object \n",
      " 1   industry                                      2233 non-null   object \n",
      " 2   office                                        2233 non-null   int64  \n",
      " 3   size                                          2233 non-null   int64  \n",
      " 4   review_counts                                 2233 non-null   float64\n",
      " 5   salaries_count                                2233 non-null   float64\n",
      " 6   jobs_count                                    2233 non-null   float64\n",
      " 7   interviews_count                              2233 non-null   float64\n",
      " 8   benefits_count                                2233 non-null   float64\n",
      " 9   website                                       2233 non-null   object \n",
      " 10  company_type                                  2233 non-null   object \n",
      " 11  revenue                                       2233 non-null   int64  \n",
      " 12  head_quarter                                  2233 non-null   object \n",
      " 13  founded                                       2233 non-null   float64\n",
      " 14  interview_possitive                           2233 non-null   float64\n",
      " 15  interview_negative                            2233 non-null   float64\n",
      " 16  interview_neutral                             2233 non-null   float64\n",
      " 17  interview_difficulty                          2233 non-null   float64\n",
      " 18  benefits_score                                2233 non-null   float64\n",
      " 19  rating                                        2233 non-null   float64\n",
      " 20  total_insurance_health_wellness_benefits      2233 non-null   int64  \n",
      " 21  health_insurance                              2233 non-null   int64  \n",
      " 22  dental_insurance                              2233 non-null   int64  \n",
      " 23  FSA                                           2233 non-null   int64  \n",
      " 24  vision insurance                              2233 non-null   int64  \n",
      " 25  HSA                                           2233 non-null   int64  \n",
      " 26  life_insurance                                2233 non-null   int64  \n",
      " 27  supplemental_life_insurance                   2233 non-null   int64  \n",
      " 28  disability_insurance                          2233 non-null   int64  \n",
      " 29  occupational_accident_insurance               2233 non-null   int64  \n",
      " 30  health_care_on_site                           2233 non-null   int64  \n",
      " 31  mental_health_care                            2233 non-null   int64  \n",
      " 32  retiree_health_and_medical                    2233 non-null   int64  \n",
      " 33  accidental_death_and_dismemberment_insurance  2233 non-null   int64  \n",
      " 34  total_financial_retirement_benefits           2233 non-null   int64  \n",
      " 35  pension_plan                                  2233 non-null   int64  \n",
      " 36  plan_401K                                     2233 non-null   int64  \n",
      " 37  retirement_plan                               2233 non-null   int64  \n",
      " 38  employee_stock_purcase_plan                   2233 non-null   int64  \n",
      " 39  performance_bonus                             2233 non-null   int64  \n",
      " 40  stock_options                                 2233 non-null   int64  \n",
      " 41  equity_incentive_plan                         2233 non-null   int64  \n",
      " 42  supplemental_workers_compensation             2233 non-null   int64  \n",
      " 43  charity_gift_matching                         2233 non-null   int64  \n",
      " 44  total_family_parenting_benefits               2233 non-null   int64  \n",
      " 45  maternity_paternity_leave                     2233 non-null   int64  \n",
      " 46  work_from_home                                2233 non-null   int64  \n",
      " 47  fertility_assistance                          2233 non-null   int64  \n",
      " 48  dependent_care                                2233 non-null   int64  \n",
      " 49  adoption_assistance                           2233 non-null   int64  \n",
      " 50  childcare                                     2233 non-null   int64  \n",
      " 51  flexible_hour                                 2233 non-null   int64  \n",
      " 52  military_leave                                2233 non-null   int64  \n",
      " 53  family_medical_leave                          2233 non-null   int64  \n",
      " 54  unpaid_extended_leave                         2233 non-null   int64  \n",
      " 55  total_vacation_time_off_benefits              2233 non-null   int64  \n",
      " 56  vacation_paid_time_off                        2233 non-null   int64  \n",
      " 57  sick_days                                     2233 non-null   int64  \n",
      " 58  paid_holidays                                 2233 non-null   int64  \n",
      " 59  volunteer_time_off                            2233 non-null   int64  \n",
      " 60  sabbatical                                    2233 non-null   int64  \n",
      " 61  bereavement_leave                             2233 non-null   int64  \n",
      " 62  total_perk_discounts_benefits                 2233 non-null   int64  \n",
      " 63  employee_discount                             2233 non-null   int64  \n",
      " 64  free_lunch_or_snacks                          2233 non-null   int64  \n",
      " 65  employee_assistance_program                   2233 non-null   int64  \n",
      " 66  gym_membership                                2233 non-null   int64  \n",
      " 67  commuter_checks_and_assistance                2233 non-null   int64  \n",
      " 68  pet_friendly_worksplace                       2233 non-null   int64  \n",
      " 69  mobile_phone_discount                         2233 non-null   int64  \n",
      " 70  company_car                                   2233 non-null   int64  \n",
      " 71  company_social_events                         2233 non-null   int64  \n",
      " 72  travel_concierge                              2233 non-null   int64  \n",
      " 73  legal_assistance                              2233 non-null   int64  \n",
      " 74  total_professional_support_benefits           2233 non-null   int64  \n",
      " 75  diversity_program                             2233 non-null   int64  \n",
      " 76  job_training                                  2233 non-null   int64  \n",
      " 77  professional_development                      2233 non-null   int64  \n",
      " 78  apprenticeship                                2233 non-null   int64  \n",
      " 79  tuition_assistance                            2233 non-null   int64  \n",
      " 80  category                                      2233 non-null   object \n",
      " 81  state                                         2233 non-null   object \n",
      " 82  company_rank                                  2233 non-null   int64  \n",
      "dtypes: float64(12), int64(64), object(7)\n",
      "memory usage: 1.4+ MB\n"
     ]
    }
   ],
   "source": [
    "df.info()"
   ]
  },
  {
   "cell_type": "code",
   "execution_count": 425,
   "metadata": {},
   "outputs": [],
   "source": [
    "df = pd.get_dummies(df, columns=['company_type','category'], drop_first = True)"
   ]
  },
  {
   "cell_type": "code",
   "execution_count": 426,
   "metadata": {},
   "outputs": [],
   "source": [
    "X = df.drop(columns=['company_rank','rating','name','website','industry','founded',\n",
    "                     'head_quarter','state', 'founded','review_counts','salaries_count',\n",
    "                     'benefits_count','interview_possitive','interview_neutral','interview_negative',\n",
    "                     'interview_neutral','interviews_count'#,'benefits_score','founded'\n",
    "                    ])\n",
    "y = df['company_rank']\n",
    "\n",
    "features = X.columns"
   ]
  },
  {
   "cell_type": "markdown",
   "metadata": {},
   "source": [
    "### Train/Test Split"
   ]
  },
  {
   "cell_type": "code",
   "execution_count": 427,
   "metadata": {},
   "outputs": [],
   "source": [
    "X_train, X_test, y_train, y_test = train_test_split(X, y, random_state=42, test_size = .2 )"
   ]
  },
  {
   "cell_type": "markdown",
   "metadata": {},
   "source": [
    "### Standar Scalar the data"
   ]
  },
  {
   "cell_type": "code",
   "execution_count": 428,
   "metadata": {},
   "outputs": [],
   "source": [
    "ss = StandardScaler()\n",
    "X_train_sc = ss.fit_transform(X_train)\n",
    "X_test_sc = ss.transform(X_test)"
   ]
  },
  {
   "cell_type": "code",
   "execution_count": 429,
   "metadata": {},
   "outputs": [
    {
     "data": {
      "text/plain": [
       "(1786, 96)"
      ]
     },
     "execution_count": 429,
     "metadata": {},
     "output_type": "execute_result"
    }
   ],
   "source": [
    "X_train.shape"
   ]
  },
  {
   "cell_type": "markdown",
   "metadata": {},
   "source": [
    "## Build Models"
   ]
  },
  {
   "cell_type": "markdown",
   "metadata": {},
   "source": [
    "### SVC"
   ]
  },
  {
   "cell_type": "code",
   "execution_count": 430,
   "metadata": {},
   "outputs": [
    {
     "name": "stdout",
     "output_type": "stream",
     "text": [
      "Training Score:  0.5733482642777156\n",
      "Validation Score:  0.5212527964205816\n",
      "[[ 93  27  44]\n",
      " [ 36  33  61]\n",
      " [ 22  24 107]]\n",
      "              precision    recall  f1-score   support\n",
      "\n",
      "           0       0.62      0.57      0.59       164\n",
      "           1       0.39      0.25      0.31       130\n",
      "           2       0.50      0.70      0.59       153\n",
      "\n",
      "    accuracy                           0.52       447\n",
      "   macro avg       0.50      0.51      0.50       447\n",
      "weighted avg       0.51      0.52      0.51       447\n",
      "\n"
     ]
    }
   ],
   "source": [
    "pipe = Pipeline([('scaler', StandardScaler()),('svc', SVC(C = 0.2,kernel ='poly',degree =1))])\n",
    "#pipe = Pipeline([('scaler', StandardScaler()),('svc', SVC(C = 0.2))])\n",
    "pipe.fit(X_train, y_train)\n",
    "print(f'Training Score: ', pipe.score(X_train,y_train))\n",
    "print(f'Validation Score: ', pipe.score(X_test, y_test))\n",
    "predictions = pipe.predict(X_test)\n",
    "print(confusion_matrix(y_test, predictions))\n",
    "print(classification_report(y_test, predictions))"
   ]
  },
  {
   "cell_type": "code",
   "execution_count": 431,
   "metadata": {},
   "outputs": [
    {
     "data": {
      "image/png": "[encoded data removed]",
      "text/plain": [
       "<Figure size 432x288 with 2 Axes>"
      ]
     },
     "metadata": {
      "needs_background": "light"
     },
     "output_type": "display_data"
    }
   ],
   "source": [
    "metrics.plot_confusion_matrix(pipe, X_test, y_test, cmap='Blues', \n",
    "values_format='d', display_labels=['Above Avg', 'Avg','Below Avg']);"
   ]
  },
  {
   "cell_type": "markdown",
   "metadata": {},
   "source": [
    "### Random Forest"
   ]
  },
  {
   "cell_type": "code",
   "execution_count": 432,
   "metadata": {},
   "outputs": [
    {
     "data": {
      "text/plain": [
       "0.5077376832094381"
      ]
     },
     "execution_count": 432,
     "metadata": {},
     "output_type": "execute_result"
    }
   ],
   "source": [
    "rfc = RandomForestClassifier()\n",
    "cross_val_score(rfc, X,y, cv=5).mean()"
   ]
  },
  {
   "cell_type": "code",
   "execution_count": 472,
   "metadata": {},
   "outputs": [
    {
     "name": "stdout",
     "output_type": "stream",
     "text": [
      "Training Score:  1.0\n",
      "Validation Score:  0.5369127516778524\n",
      "[[100  23  41]\n",
      " [ 25  39  66]\n",
      " [ 27  25 101]]\n",
      "              precision    recall  f1-score   support\n",
      "\n",
      "           0       0.66      0.61      0.63       164\n",
      "           1       0.45      0.30      0.36       130\n",
      "           2       0.49      0.66      0.56       153\n",
      "\n",
      "    accuracy                           0.54       447\n",
      "   macro avg       0.53      0.52      0.52       447\n",
      "weighted avg       0.54      0.54      0.53       447\n",
      "\n"
     ]
    }
   ],
   "source": [
    "#pipe = Pipeline([('scaler', StandardScaler()),('rfc', RandomForestClassifier(n_estimators=100,max_depth= 2,min_samples_split=5))])\n",
    "pipe = Pipeline([('scaler', StandardScaler()),('rfc', RandomForestClassifier())])\n",
    "pipe.fit(X_train, y_train)\n",
    "print(f'Training Score: ', pipe.score(X_train,y_train))\n",
    "print(f'Validation Score: ', pipe.score(X_test, y_test))\n",
    "predictions = pipe.predict(X_test)\n",
    "print(confusion_matrix(y_test, predictions))\n",
    "print(classification_report(y_test, predictions))"
   ]
  },
  {
   "cell_type": "code",
   "execution_count": 473,
   "metadata": {},
   "outputs": [
    {
     "data": {
      "image/png": "[encoded data removed]",
      "text/plain": [
       "<Figure size 432x288 with 2 Axes>"
      ]
     },
     "metadata": {
      "needs_background": "light"
     },
     "output_type": "display_data"
    }
   ],
   "source": [
    "metrics.plot_confusion_matrix(pipe, X_test, y_test, cmap='Blues', \n",
    "values_format='d', display_labels=['Above Avg', 'Avg','Below Avg']);"
   ]
  },
  {
   "cell_type": "markdown",
   "metadata": {},
   "source": [
    "#### ADA boost"
   ]
  },
  {
   "cell_type": "code",
   "execution_count": 435,
   "metadata": {},
   "outputs": [
    {
     "data": {
      "text/plain": [
       "0.5001554960323431"
      ]
     },
     "execution_count": 435,
     "metadata": {},
     "output_type": "execute_result"
    }
   ],
   "source": [
    "boost = AdaBoostClassifier()\n",
    "cross_val_score(boost,X,y,cv=5).mean()"
   ]
  },
  {
   "cell_type": "code",
   "execution_count": 436,
   "metadata": {},
   "outputs": [
    {
     "name": "stdout",
     "output_type": "stream",
     "text": [
      "Training Score:  0.5548712206047033\n",
      "Validation Score:  0.5302013422818792\n",
      "[[109  17  38]\n",
      " [ 42  32  56]\n",
      " [ 39  18  96]]\n",
      "              precision    recall  f1-score   support\n",
      "\n",
      "           0       0.57      0.66      0.62       164\n",
      "           1       0.48      0.25      0.32       130\n",
      "           2       0.51      0.63      0.56       153\n",
      "\n",
      "    accuracy                           0.53       447\n",
      "   macro avg       0.52      0.51      0.50       447\n",
      "weighted avg       0.52      0.53      0.51       447\n",
      "\n"
     ]
    }
   ],
   "source": [
    "pipe = Pipeline([('scaler', StandardScaler()),('ada', AdaBoostClassifier(n_estimators= 20,base_estimator=DecisionTreeClassifier(max_depth = 1)))])\n",
    "pipe.fit(X_train, y_train)\n",
    "print(f'Training Score: ', pipe.score(X_train,y_train))\n",
    "print(f'Validation Score: ', pipe.score(X_test, y_test))\n",
    "predictions = pipe.predict(X_test)\n",
    "print(confusion_matrix(y_test, predictions))\n",
    "print(classification_report(y_test, predictions))"
   ]
  },
  {
   "cell_type": "code",
   "execution_count": 437,
   "metadata": {
    "scrolled": true
   },
   "outputs": [
    {
     "data": {
      "image/png": "[encoded data removed]",
      "text/plain": [
       "<Figure size 432x288 with 2 Axes>"
      ]
     },
     "metadata": {
      "needs_background": "light"
     },
     "output_type": "display_data"
    }
   ],
   "source": [
    "metrics.plot_confusion_matrix(pipe, X_test, y_test, cmap='Blues', \n",
    "                      values_format='d', display_labels=['<= 50k', '> 50k','']);"
   ]
  },
  {
   "cell_type": "code",
   "execution_count": 438,
   "metadata": {},
   "outputs": [
    {
     "name": "stdout",
     "output_type": "stream",
     "text": [
      "Training Score:  0.5722284434490481\n",
      "Validation Score:  0.5123042505592841\n",
      "[[101  27  36]\n",
      " [ 41  35  54]\n",
      " [ 33  27  93]]\n",
      "              precision    recall  f1-score   support\n",
      "\n",
      "           0       0.58      0.62      0.60       164\n",
      "           1       0.39      0.27      0.32       130\n",
      "           2       0.51      0.61      0.55       153\n",
      "\n",
      "    accuracy                           0.51       447\n",
      "   macro avg       0.49      0.50      0.49       447\n",
      "weighted avg       0.50      0.51      0.50       447\n",
      "\n"
     ]
    }
   ],
   "source": [
    "pipe = Pipeline([('scaler', StandardScaler()),('ada', AdaBoostClassifier())])\n",
    "pipe.fit(X_train, y_train)\n",
    "print(f'Training Score: ', pipe.score(X_train,y_train))\n",
    "print(f'Validation Score: ', pipe.score(X_test, y_test))\n",
    "predictions = pipe.predict(X_test)\n",
    "print(confusion_matrix(y_test, predictions))\n",
    "print(classification_report(y_test, predictions))"
   ]
  },
  {
   "cell_type": "code",
   "execution_count": 439,
   "metadata": {},
   "outputs": [
    {
     "data": {
      "image/png": "[encoded data removed]",
      "text/plain": [
       "<Figure size 432x288 with 2 Axes>"
      ]
     },
     "metadata": {
      "needs_background": "light"
     },
     "output_type": "display_data"
    }
   ],
   "source": [
    "metrics.plot_confusion_matrix(pipe, X_test, y_test, cmap='Blues', \n",
    "                      values_format='d', display_labels=['<= 50k', '> 50k','']);"
   ]
  },
  {
   "cell_type": "code",
   "execution_count": 440,
   "metadata": {
    "scrolled": true
   },
   "outputs": [
    {
     "data": {
      "text/plain": [
       "\"ada = AdaBoostClassifier(base_estimator=DecisionTreeClassifier())\\nada_params = {\\n    'n_estimators': [20,50,100],\\n    'base_estimator__max_depth': [1,2,3],\\n    'learning_rate': [.1,.9, 1.]\\n}\\ngs = GridSearchCV(ada, param_grid=ada_params, cv=3)\\ngs.fit(X_train, y_train)\\nprint(gs.best_score_)\\ngs.best_params_\""
      ]
     },
     "execution_count": 440,
     "metadata": {},
     "output_type": "execute_result"
    }
   ],
   "source": [
    "'''ada = AdaBoostClassifier(base_estimator=DecisionTreeClassifier())\n",
    "ada_params = {\n",
    "    'n_estimators': [20,50,100],\n",
    "    'base_estimator__max_depth': [1,2,3],\n",
    "    'learning_rate': [.1,.9, 1.]\n",
    "}\n",
    "gs = GridSearchCV(ada, param_grid=ada_params, cv=3)\n",
    "gs.fit(X_train, y_train)\n",
    "print(gs.best_score_)\n",
    "gs.best_params_'''"
   ]
  },
  {
   "cell_type": "markdown",
   "metadata": {},
   "source": [
    "### Extra tree"
   ]
  },
  {
   "cell_type": "code",
   "execution_count": 441,
   "metadata": {},
   "outputs": [
    {
     "data": {
      "text/plain": [
       "0.42119519519519527"
      ]
     },
     "execution_count": 441,
     "metadata": {},
     "output_type": "execute_result"
    }
   ],
   "source": [
    "x_trees = ExtraTreeClassifier()\n",
    "cross_val_score(x_trees, X,y,cv= 30).mean()"
   ]
  },
  {
   "cell_type": "code",
   "execution_count": 442,
   "metadata": {
    "scrolled": true
   },
   "outputs": [
    {
     "name": "stdout",
     "output_type": "stream",
     "text": [
      "Training Score:  0.4753639417693169\n",
      "Validation Score:  0.4250559284116331\n",
      "[[ 60   3 101]\n",
      " [ 19   2 109]\n",
      " [ 21   4 128]]\n",
      "              precision    recall  f1-score   support\n",
      "\n",
      "           0       0.60      0.37      0.45       164\n",
      "           1       0.22      0.02      0.03       130\n",
      "           2       0.38      0.84      0.52       153\n",
      "\n",
      "    accuracy                           0.43       447\n",
      "   macro avg       0.40      0.41      0.33       447\n",
      "weighted avg       0.41      0.43      0.35       447\n",
      "\n"
     ]
    }
   ],
   "source": [
    "pipe = Pipeline([('scaler', StandardScaler()),('x_tree', ExtraTreeClassifier(max_depth=4))])\n",
    "pipe.fit(X_train, y_train)\n",
    "print(f'Training Score: ', pipe.score(X_train,y_train))\n",
    "print(f'Validation Score: ', pipe.score(X_test, y_test))\n",
    "predictions = pipe.predict(X_test)\n",
    "print(confusion_matrix(y_test, predictions))\n",
    "print(classification_report(y_test, predictions))"
   ]
  },
  {
   "cell_type": "code",
   "execution_count": 443,
   "metadata": {},
   "outputs": [
    {
     "data": {
      "image/png": "[encoded data removed]",
      "text/plain": [
       "<Figure size 432x288 with 2 Axes>"
      ]
     },
     "metadata": {
      "needs_background": "light"
     },
     "output_type": "display_data"
    }
   ],
   "source": [
    "metrics.plot_confusion_matrix(pipe, X_test, y_test, cmap='Blues', \n",
    "                      values_format='d', display_labels=['<= 50k', '> 50k','']);"
   ]
  },
  {
   "cell_type": "markdown",
   "metadata": {},
   "source": [
    "### Decicion Tree"
   ]
  },
  {
   "cell_type": "code",
   "execution_count": 444,
   "metadata": {},
   "outputs": [
    {
     "data": {
      "text/plain": [
       "0.45520186335403723"
      ]
     },
     "execution_count": 444,
     "metadata": {},
     "output_type": "execute_result"
    }
   ],
   "source": [
    "tree = DecisionTreeClassifier()\n",
    "cross_val_score(tree, X,y,cv=32).mean()"
   ]
  },
  {
   "cell_type": "code",
   "execution_count": 445,
   "metadata": {},
   "outputs": [
    {
     "name": "stdout",
     "output_type": "stream",
     "text": [
      "Training Score:  0.5571108622620381\n",
      "Validation Score:  0.5279642058165548\n",
      "[[105  26  33]\n",
      " [ 46  38  46]\n",
      " [ 28  32  93]]\n",
      "              precision    recall  f1-score   support\n",
      "\n",
      "           0       0.59      0.64      0.61       164\n",
      "           1       0.40      0.29      0.34       130\n",
      "           2       0.54      0.61      0.57       153\n",
      "\n",
      "    accuracy                           0.53       447\n",
      "   macro avg       0.51      0.51      0.51       447\n",
      "weighted avg       0.52      0.53      0.52       447\n",
      "\n"
     ]
    }
   ],
   "source": [
    "pipe = Pipeline([('scaler', StandardScaler()),('dt', DecisionTreeClassifier(max_depth=4))])\n",
    "pipe.fit(X_train, y_train)\n",
    "print(f'Training Score: ', pipe.score(X_train,y_train))\n",
    "print(f'Validation Score: ', pipe.score(X_test, y_test))\n",
    "predictions = pipe.predict(X_test)\n",
    "print(confusion_matrix(y_test, predictions))\n",
    "print(classification_report(y_test, predictions))"
   ]
  },
  {
   "cell_type": "code",
   "execution_count": 446,
   "metadata": {},
   "outputs": [
    {
     "data": {
      "image/png": "[encoded data removed]",
      "text/plain": [
       "<Figure size 432x288 with 2 Axes>"
      ]
     },
     "metadata": {
      "needs_background": "light"
     },
     "output_type": "display_data"
    }
   ],
   "source": [
    "metrics.plot_confusion_matrix(pipe, X_test, y_test, cmap='Blues', \n",
    "                      values_format='d', display_labels=['<= 50k', '> 50k','']);"
   ]
  },
  {
   "cell_type": "markdown",
   "metadata": {},
   "source": [
    "### Gradient boost"
   ]
  },
  {
   "cell_type": "code",
   "execution_count": 447,
   "metadata": {},
   "outputs": [
    {
     "data": {
      "text/plain": [
       "0.5319519519519519"
      ]
     },
     "execution_count": 447,
     "metadata": {},
     "output_type": "execute_result"
    }
   ],
   "source": [
    "boost = GradientBoostingClassifier()\n",
    "cross_val_score(boost,X,y,cv=30).mean()"
   ]
  },
  {
   "cell_type": "code",
   "execution_count": 448,
   "metadata": {},
   "outputs": [
    {
     "data": {
      "text/plain": [
       "\"gboost = GradientBoostingClassifier()\\ngboost_params = {\\n    'max_depth': [2,3,4],\\n    'n_estimators': [140,150,160,200],\\n    'learning_rate': [.08, .1, .12]\\n}\\ngb_gs = GridSearchCV(gboost, param_grid=gboost_params, cv=30)\\ngb_gs.fit(X_train, y_train)\\nprint(gb_gs.best_score_)\\ngb_gs.best_params_\""
      ]
     },
     "execution_count": 448,
     "metadata": {},
     "output_type": "execute_result"
    }
   ],
   "source": [
    "'''gboost = GradientBoostingClassifier()\n",
    "gboost_params = {\n",
    "    'max_depth': [1,2,3,4],\n",
    "    'n_estimators': [10,20,50,100,150,200],\n",
    "    'learning_rate': [.08, .1, .12]\n",
    "}\n",
    "gb_gs = GridSearchCV(gboost, param_grid=gboost_params, cv=30)\n",
    "gb_gs.fit(X_train, y_train)\n",
    "print(gb_gs.best_score_)\n",
    "gb_gs.best_params_'''"
   ]
  },
  {
   "cell_type": "code",
   "execution_count": 449,
   "metadata": {
    "scrolled": true
   },
   "outputs": [
    {
     "name": "stdout",
     "output_type": "stream",
     "text": [
      "Training Score:  0.5487122060470325\n",
      "Validation Score:  0.5458612975391499\n",
      "[[114  20  30]\n",
      " [ 48  33  49]\n",
      " [ 40  16  97]]\n",
      "              precision    recall  f1-score   support\n",
      "\n",
      "           0       0.56      0.70      0.62       164\n",
      "           1       0.48      0.25      0.33       130\n",
      "           2       0.55      0.63      0.59       153\n",
      "\n",
      "    accuracy                           0.55       447\n",
      "   macro avg       0.53      0.53      0.51       447\n",
      "weighted avg       0.53      0.55      0.53       447\n",
      "\n"
     ]
    }
   ],
   "source": [
    "pipe = Pipeline([('scaler', StandardScaler()),('boost', GradientBoostingClassifier(max_depth=1,n_estimators=20))])\n",
    "pipe.fit(X_train, y_train)\n",
    "print(f'Training Score: ', pipe.score(X_train,y_train))\n",
    "print(f'Validation Score: ', pipe.score(X_test, y_test))\n",
    "predictions = pipe.predict(X_test)\n",
    "print(confusion_matrix(y_test, predictions))\n",
    "print(classification_report(y_test, predictions))"
   ]
  },
  {
   "cell_type": "code",
   "execution_count": 450,
   "metadata": {
    "scrolled": true
   },
   "outputs": [
    {
     "data": {
      "image/png": "[encoded data removed]",
      "text/plain": [
       "<Figure size 432x288 with 2 Axes>"
      ]
     },
     "metadata": {
      "needs_background": "light"
     },
     "output_type": "display_data"
    }
   ],
   "source": [
    "metrics.plot_confusion_matrix(pipe, X_test, y_test, cmap='Blues', \n",
    "values_format='d', display_labels=['Above Avg', 'Avg','Below Avg']);"
   ]
  },
  {
   "cell_type": "markdown",
   "metadata": {},
   "source": [
    "### This this the best model, with highes score and not overfitting, I copy this model below to see more detail"
   ]
  },
  {
   "cell_type": "code",
   "execution_count": 451,
   "metadata": {},
   "outputs": [
    {
     "name": "stdout",
     "output_type": "stream",
     "text": [
      "Training Score:  0.5845464725643897\n",
      "Validation Score:  0.5369127516778524\n",
      "[[ 99  16  49]\n",
      " [ 35  28  67]\n",
      " [ 30  10 113]]\n",
      "              precision    recall  f1-score   support\n",
      "\n",
      "           0       0.60      0.60      0.60       164\n",
      "           1       0.52      0.22      0.30       130\n",
      "           2       0.49      0.74      0.59       153\n",
      "\n",
      "    accuracy                           0.54       447\n",
      "   macro avg       0.54      0.52      0.50       447\n",
      "weighted avg       0.54      0.54      0.51       447\n",
      "\n"
     ]
    }
   ],
   "source": [
    "pipe = Pipeline([('scaler', StandardScaler()),('boost', GradientBoostingClassifier(n_estimators=10))])\n",
    "pipe.fit(X_train, y_train)\n",
    "print(f'Training Score: ', pipe.score(X_train,y_train))\n",
    "print(f'Validation Score: ', pipe.score(X_test, y_test))\n",
    "predictions = pipe.predict(X_test)\n",
    "print(confusion_matrix(y_test, predictions))\n",
    "print(classification_report(y_test, predictions))"
   ]
  },
  {
   "cell_type": "code",
   "execution_count": 452,
   "metadata": {
    "scrolled": true
   },
   "outputs": [
    {
     "data": {
      "image/png": "[encoded data removed]",
      "text/plain": [
       "<Figure size 432x288 with 2 Axes>"
      ]
     },
     "metadata": {
      "needs_background": "light"
     },
     "output_type": "display_data"
    }
   ],
   "source": [
    "metrics.plot_confusion_matrix(pipe, X_test, y_test, cmap='Blues', \n",
    "values_format='d', display_labels=['Above Avg', 'Avg','Below Avg']);"
   ]
  },
  {
   "cell_type": "markdown",
   "metadata": {},
   "source": [
    "### Logistic Regression"
   ]
  },
  {
   "cell_type": "code",
   "execution_count": 453,
   "metadata": {
    "scrolled": true
   },
   "outputs": [
    {
     "data": {
      "text/plain": [
       "0.5222162162162163"
      ]
     },
     "execution_count": 453,
     "metadata": {},
     "output_type": "execute_result"
    }
   ],
   "source": [
    "logr= LogisticRegression(solver = 'liblinear')\n",
    "cross_val_score(logr,X,y,cv=30).mean()"
   ]
  },
  {
   "cell_type": "code",
   "execution_count": 454,
   "metadata": {},
   "outputs": [],
   "source": [
    "#learning_rate=0.1, min_samples_split=500,min_samples_leaf=50,max_depth=8,max_features='sqrt',subsample=0.8,random_state=10"
   ]
  },
  {
   "cell_type": "code",
   "execution_count": 455,
   "metadata": {},
   "outputs": [
    {
     "name": "stdout",
     "output_type": "stream",
     "text": [
      "Training Score:  0.5755879059350504\n",
      "Validation Score:  0.5391498881431768\n",
      "[[108  23  33]\n",
      " [ 47  35  48]\n",
      " [ 32  23  98]]\n",
      "              precision    recall  f1-score   support\n",
      "\n",
      "           0       0.58      0.66      0.62       164\n",
      "           1       0.43      0.27      0.33       130\n",
      "           2       0.55      0.64      0.59       153\n",
      "\n",
      "    accuracy                           0.54       447\n",
      "   macro avg       0.52      0.52      0.51       447\n",
      "weighted avg       0.52      0.54      0.52       447\n",
      "\n"
     ]
    }
   ],
   "source": [
    "pipe = Pipeline([('scaler', StandardScaler()),('logr', LogisticRegression(solver = 'liblinear',C = 0.01))])\n",
    "pipe.fit(X_train, y_train)\n",
    "print(f'Training Score: ', pipe.score(X_train,y_train))\n",
    "print(f'Validation Score: ', pipe.score(X_test, y_test))\n",
    "predictions = pipe.predict(X_test)\n",
    "print(confusion_matrix(y_test, predictions))\n",
    "print(classification_report(y_test, predictions))"
   ]
  },
  {
   "cell_type": "code",
   "execution_count": 456,
   "metadata": {},
   "outputs": [
    {
     "data": {
      "image/png": "[encoded data removed]",
      "text/plain": [
       "<Figure size 432x288 with 2 Axes>"
      ]
     },
     "metadata": {
      "needs_background": "light"
     },
     "output_type": "display_data"
    }
   ],
   "source": [
    "metrics.plot_confusion_matrix(pipe, X_test, y_test, cmap='Blues', \n",
    "values_format='d', display_labels=['Above Avg', 'Avg','Below Avg']);"
   ]
  },
  {
   "cell_type": "markdown",
   "metadata": {},
   "source": [
    "### K-NN"
   ]
  },
  {
   "cell_type": "code",
   "execution_count": 457,
   "metadata": {},
   "outputs": [
    {
     "data": {
      "text/plain": [
       "0.38376320462274655"
      ]
     },
     "execution_count": 457,
     "metadata": {},
     "output_type": "execute_result"
    }
   ],
   "source": [
    "knn = KNeighborsClassifier()\n",
    "cross_val_score(knn, X,y,cv= 5).mean()"
   ]
  },
  {
   "cell_type": "code",
   "execution_count": 458,
   "metadata": {
    "scrolled": true
   },
   "outputs": [
    {
     "name": "stdout",
     "output_type": "stream",
     "text": [
      "Training Score:  0.526875699888018\n",
      "Validation Score:  0.4988814317673378\n",
      "[[89 37 38]\n",
      " [44 44 42]\n",
      " [28 35 90]]\n",
      "              precision    recall  f1-score   support\n",
      "\n",
      "           0       0.55      0.54      0.55       164\n",
      "           1       0.38      0.34      0.36       130\n",
      "           2       0.53      0.59      0.56       153\n",
      "\n",
      "    accuracy                           0.50       447\n",
      "   macro avg       0.49      0.49      0.49       447\n",
      "weighted avg       0.49      0.50      0.50       447\n",
      "\n"
     ]
    }
   ],
   "source": [
    "pipe = Pipeline([('scaler', StandardScaler()),('knn', KNeighborsClassifier(n_neighbors= 30))])\n",
    "pipe.fit(X_train, y_train)\n",
    "print(f'Training Score: ', pipe.score(X_train,y_train))\n",
    "print(f'Validation Score: ', pipe.score(X_test, y_test))\n",
    "predictions = pipe.predict(X_test)\n",
    "print(confusion_matrix(y_test, predictions))\n",
    "print(classification_report(y_test, predictions))"
   ]
  },
  {
   "cell_type": "code",
   "execution_count": 459,
   "metadata": {},
   "outputs": [
    {
     "data": {
      "image/png": "[encoded data removed]",
      "text/plain": [
       "<Figure size 432x288 with 2 Axes>"
      ]
     },
     "metadata": {
      "needs_background": "light"
     },
     "output_type": "display_data"
    }
   ],
   "source": [
    "metrics.plot_confusion_matrix(pipe, X_test, y_test, cmap='Blues', \n",
    "values_format='d', display_labels=['Above Avg', 'Avg','Below Avg']);"
   ]
  },
  {
   "cell_type": "markdown",
   "metadata": {},
   "source": [
    "### The Best Model : Gradient Boosting Classifier"
   ]
  },
  {
   "cell_type": "code",
   "execution_count": 474,
   "metadata": {
    "scrolled": false
   },
   "outputs": [
    {
     "name": "stdout",
     "output_type": "stream",
     "text": [
      "Training Score:  0.5487122060470325\n",
      "Validation Score:  0.5458612975391499\n",
      "[[114  20  30]\n",
      " [ 48  33  49]\n",
      " [ 40  16  97]]\n",
      "              precision    recall  f1-score   support\n",
      "\n",
      "           0       0.56      0.70      0.62       164\n",
      "           1       0.48      0.25      0.33       130\n",
      "           2       0.55      0.63      0.59       153\n",
      "\n",
      "    accuracy                           0.55       447\n",
      "   macro avg       0.53      0.53      0.51       447\n",
      "weighted avg       0.53      0.55      0.53       447\n",
      "\n"
     ]
    },
    {
     "data": {
      "image/png": "[encoded data removed]",
      "text/plain": [
       "<Figure size 432x288 with 2 Axes>"
      ]
     },
     "metadata": {
      "needs_background": "light"
     },
     "output_type": "display_data"
    }
   ],
   "source": [
    "pipe = Pipeline([('scaler', StandardScaler()),('boost', GradientBoostingClassifier(max_depth=1,n_estimators=20))])\n",
    "pipe.fit(X_train, y_train)\n",
    "print(f'Training Score: ', pipe.score(X_train,y_train))\n",
    "print(f'Validation Score: ', pipe.score(X_test, y_test))\n",
    "predictions = pipe.predict(X_test)\n",
    "print(confusion_matrix(y_test, predictions))\n",
    "print(classification_report(y_test, predictions))\n",
    "\n",
    "metrics.plot_confusion_matrix(pipe, X_test, y_test, cmap='Blues', \n",
    "values_format='d', display_labels=['Above Avg', 'Avg','Below Avg']);"
   ]
  },
  {
   "cell_type": "markdown",
   "metadata": {},
   "source": [
    "This model has the higest score 55% among the others ,beat the base line (36%), and no overfitting. But we can see from the confusion matrix, it does not predict average class really good. The average class (class 1) has the least data among the other classes"
   ]
  },
  {
   "cell_type": "code",
   "execution_count": 479,
   "metadata": {},
   "outputs": [
    {
     "data": {
      "text/plain": [
       "0    0.366890\n",
       "1    0.290828\n",
       "2    0.342282\n",
       "Name: company_rank, dtype: float64"
      ]
     },
     "execution_count": 479,
     "metadata": {},
     "output_type": "execute_result"
    }
   ],
   "source": [
    "y_test.value_counts(normalize = True).sort_index()"
   ]
  },
  {
   "cell_type": "markdown",
   "metadata": {},
   "source": [
    "### Check the feature importance"
   ]
  },
  {
   "cell_type": "code",
   "execution_count": 485,
   "metadata": {},
   "outputs": [],
   "source": [
    "boost = GradientBoostingClassifier(max_depth=1,n_estimators=20)\n",
    "boost.fit(X_train,y_train)\n",
    "\n",
    "values = boost.feature_importances_\n",
    "\n",
    "feat = pd.DataFrame(features)\n",
    "feat['values'] = values\n",
    "df_feat = feat.sort_values(by= 'values', ascending=False).head(15)"
   ]
  },
  {
   "cell_type": "code",
   "execution_count": 486,
   "metadata": {
    "scrolled": false
   },
   "outputs": [
    {
     "data": {
      "text/html": [
       "<div>\n",
       "<style scoped>\n",
       "    .dataframe tbody tr th:only-of-type {\n",
       "        vertical-align: middle;\n",
       "    }\n",
       "\n",
       "    .dataframe tbody tr th {\n",
       "        vertical-align: top;\n",
       "    }\n",
       "\n",
       "    .dataframe thead th {\n",
       "        text-align: right;\n",
       "    }\n",
       "</style>\n",
       "<table border=\"1\" class=\"dataframe\">\n",
       "  <thead>\n",
       "    <tr style=\"text-align: right;\">\n",
       "      <th></th>\n",
       "      <th>features</th>\n",
       "      <th>values</th>\n",
       "    </tr>\n",
       "  </thead>\n",
       "  <tbody>\n",
       "    <tr>\n",
       "      <th>5</th>\n",
       "      <td>benefits_score</td>\n",
       "      <td>0.543812</td>\n",
       "    </tr>\n",
       "    <tr>\n",
       "      <th>80</th>\n",
       "      <td>category_Education</td>\n",
       "      <td>0.127270</td>\n",
       "    </tr>\n",
       "    <tr>\n",
       "      <th>2</th>\n",
       "      <td>jobs_count</td>\n",
       "      <td>0.095082</td>\n",
       "    </tr>\n",
       "    <tr>\n",
       "      <th>4</th>\n",
       "      <td>interview_difficulty</td>\n",
       "      <td>0.089985</td>\n",
       "    </tr>\n",
       "    <tr>\n",
       "      <th>1</th>\n",
       "      <td>size</td>\n",
       "      <td>0.079385</td>\n",
       "    </tr>\n",
       "    <tr>\n",
       "      <th>49</th>\n",
       "      <td>employee_discount</td>\n",
       "      <td>0.025324</td>\n",
       "    </tr>\n",
       "    <tr>\n",
       "      <th>86</th>\n",
       "      <td>category_Manufacturing</td>\n",
       "      <td>0.019337</td>\n",
       "    </tr>\n",
       "    <tr>\n",
       "      <th>92</th>\n",
       "      <td>category_Retail</td>\n",
       "      <td>0.012964</td>\n",
       "    </tr>\n",
       "    <tr>\n",
       "      <th>48</th>\n",
       "      <td>total_perk_discounts_benefits</td>\n",
       "      <td>0.002672</td>\n",
       "    </tr>\n",
       "    <tr>\n",
       "      <th>41</th>\n",
       "      <td>total_vacation_time_off_benefits</td>\n",
       "      <td>0.002192</td>\n",
       "    </tr>\n",
       "    <tr>\n",
       "      <th>26</th>\n",
       "      <td>stock_options</td>\n",
       "      <td>0.001977</td>\n",
       "    </tr>\n",
       "    <tr>\n",
       "      <th>67</th>\n",
       "      <td>company_type_Hospital</td>\n",
       "      <td>0.000000</td>\n",
       "    </tr>\n",
       "    <tr>\n",
       "      <th>66</th>\n",
       "      <td>company_type_Government</td>\n",
       "      <td>0.000000</td>\n",
       "    </tr>\n",
       "    <tr>\n",
       "      <th>68</th>\n",
       "      <td>company_type_Nonprofit Organization</td>\n",
       "      <td>0.000000</td>\n",
       "    </tr>\n",
       "    <tr>\n",
       "      <th>65</th>\n",
       "      <td>tuition_assistance</td>\n",
       "      <td>0.000000</td>\n",
       "    </tr>\n",
       "  </tbody>\n",
       "</table>\n",
       "</div>"
      ],
      "text/plain": [
       "                               features    values\n",
       "5                        benefits_score  0.543812\n",
       "80                   category_Education  0.127270\n",
       "2                            jobs_count  0.095082\n",
       "4                  interview_difficulty  0.089985\n",
       "1                                  size  0.079385\n",
       "49                    employee_discount  0.025324\n",
       "86               category_Manufacturing  0.019337\n",
       "92                      category_Retail  0.012964\n",
       "48        total_perk_discounts_benefits  0.002672\n",
       "41     total_vacation_time_off_benefits  0.002192\n",
       "26                        stock_options  0.001977\n",
       "67                company_type_Hospital  0.000000\n",
       "66              company_type_Government  0.000000\n",
       "68  company_type_Nonprofit Organization  0.000000\n",
       "65                   tuition_assistance  0.000000"
      ]
     },
     "execution_count": 486,
     "metadata": {},
     "output_type": "execute_result"
    }
   ],
   "source": [
    "df_feat.columns = ['features','values']\n",
    "df_feat"
   ]
  },
  {
   "cell_type": "code",
   "execution_count": 487,
   "metadata": {},
   "outputs": [
    {
     "data": {
      "image/png": "[encoded data removed]",
      "text/plain": [
       "<Figure size 1224x576 with 1 Axes>"
      ]
     },
     "metadata": {
      "needs_background": "light"
     },
     "output_type": "display_data"
    }
   ],
   "source": [
    "plt.figure(figsize = (17,8))\n",
    "plt.title('The distribution of feature importance',fontsize = 15)\n",
    "sns.barplot(x = 'features',y = 'values', data = df_feat)\n",
    "#df_feat.plot(kind='bar')\n",
    "plt.xticks(rotation = 30, fontsize = 9)\n",
    "plt.yticks(rotation = 0, fontsize = 10);"
   ]
  },
  {
   "cell_type": "markdown",
   "metadata": {},
   "source": [
    "From the distribution of feature importance table and diagram, we can see the benefit score is the most informative feature, follow by education company category, company job posting counts, the difficulty of interview, company size, employee discount benefit, manufacturing company category, retail company category, total perk discount benefits, total vacation and time off benefit, and stock option benefit."
   ]
  },
  {
   "cell_type": "code",
   "execution_count": null,
   "metadata": {},
   "outputs": [],
   "source": []
  }
 ],
 "metadata": {
  "kernelspec": {
   "display_name": "Python 3",
   "language": "python",
   "name": "python3"
  },
  "language_info": {
   "codemirror_mode": {
    "name": "ipython",
    "version": 3
   },
   "file_extension": ".py",
   "mimetype": "text/x-python",
   "name": "python",
   "nbconvert_exporter": "python",
   "pygments_lexer": "ipython3",
   "version": "3.8.5"
  }
 },
 "nbformat": 4,
 "nbformat_minor": 4
}
